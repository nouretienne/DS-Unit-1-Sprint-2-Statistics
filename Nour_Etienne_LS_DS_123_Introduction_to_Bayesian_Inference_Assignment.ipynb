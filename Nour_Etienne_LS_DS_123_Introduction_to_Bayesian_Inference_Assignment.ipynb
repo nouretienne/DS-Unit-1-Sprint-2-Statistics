{
  "nbformat": 4,
  "nbformat_minor": 0,
  "metadata": {
    "colab": {
      "name": "Nour Etienne LS_DS_123_Introduction_to_Bayesian_Inference_Assignment.ipynb",
      "provenance": [],
      "collapsed_sections": [],
      "include_colab_link": true
    },
    "kernelspec": {
      "name": "python3",
      "display_name": "Python 3"
    }
  },
  "cells": [
    {
      "cell_type": "markdown",
      "metadata": {
        "id": "view-in-github",
        "colab_type": "text"
      },
      "source": [
        "<a href=\"https://colab.research.google.com/github/nouretienne/DS-Unit-1-Sprint-2-Statistics/blob/master/Nour_Etienne_LS_DS_123_Introduction_to_Bayesian_Inference_Assignment.ipynb\" target=\"_parent\"><img src=\"https://colab.research.google.com/assets/colab-badge.svg\" alt=\"Open In Colab\"/></a>"
      ]
    },
    {
      "cell_type": "markdown",
      "metadata": {
        "id": "H7OLbevlbd_Z",
        "colab_type": "text"
      },
      "source": [
        "# Lambda School Data Science Module 123\n",
        "\n",
        "## Introduction to Bayesian Inference\n",
        "\n",
        "\n"
      ]
    },
    {
      "cell_type": "markdown",
      "metadata": {
        "id": "P-DzzRk5bf0z",
        "colab_type": "text"
      },
      "source": [
        "## Assignment - Code it up!\n",
        "\n",
        "We used pure math to apply Bayes Theorem to drug tests. Now write Python code to reproduce the results! This is purposefully open ended - you'll have to think about how you should represent probabilities and events. You can and should look things up.\n",
        "\n",
        "Specific goals/targets:\n",
        "\n",
        "### 1) Write a function \n",
        "\n",
        "`def prob_drunk_given_positive(prob_drunk_prior, false_positive_rate):` \n",
        "\n",
        "You should only truly need these two values in order to apply Bayes Theorem. In this example, imagine that individuals are taking a breathalyzer test with an 8% false positive rate, a 100% true positive rate, and that our prior belief about drunk driving in the population is 1/1000. \n",
        " - What is the probability that a person is drunk after one positive breathalyzer test?\n",
        " - What is the probability that a person is drunk after two positive breathalyzer tests?\n",
        " - How many positive breathalyzer tests are needed in order to have a probability that's greater than 95% that a person is drunk beyond the legal limit?\n",
        "\n",
        "### 2) Explore `scipy.stats.bayes_mvs`  \n",
        "Read its documentation, and experiment with it on data you've tested in other ways earlier this week.\n",
        " - Create a visualization comparing the results of a Bayesian approach to a traditional/frequentist approach. (with a large sample size they should look close to identical, however, take this opportunity to practice visualizing condfidence intervals in general. The following are some potential ways that you could visualize confidence intervals on your graph:\n",
        "  - [Matplotlib Error Bars](https://matplotlib.org/3.1.1/api/_as_gen/matplotlib.pyplot.errorbar.html)\n",
        "  - [Seaborn barplot with error bars](https://seaborn.pydata.org/generated/seaborn.barplot.html)\n",
        "  - [Vertical ines to show bounds of confidence interval](https://www.simplypsychology.org/confidence-interval.jpg)\n",
        "  - [Confidence Intervals on Box Plots](https://matplotlib.org/3.1.1/api/_as_gen/matplotlib.axes.Axes.boxplot.html)\n",
        "\n",
        "### 3) In your own words, summarize the difference between Bayesian and Frequentist statistics\n",
        "\n",
        "If you're unsure where to start, check out [this blog post of Bayes theorem with Python](https://dataconomy.com/2015/02/introduction-to-bayes-theorem-with-python/).\n",
        "\n"
      ]
    },
    {
      "cell_type": "markdown",
      "metadata": {
        "id": "PuQG3LiYkyVi",
        "colab_type": "text"
      },
      "source": [
        "1) Write a function\n",
        "\n",
        "Let's consider two following events: \n",
        "\n",
        "A: the person has the disease\n",
        "\n",
        "B: the test is positive\n",
        "\n",
        "\n",
        "The **prior $P(A) $** is probability of having a disease. \n",
        "\n",
        "The **false positive $P(B|non A) $** is the probabiity of getting tested positive while the person does not have the disease.\n",
        "\n",
        "Let's write the Bayes equation: $$P(A|B) = \\frac{P(B|A)P(A)}{P(B)}$$\n",
        "\n",
        "We have **$P(B|A)$ = 1 - $P(B|non A)$ = 1 - FALSE POSITIVE**\n",
        "\n",
        "Besides $P(B) $ = $P(B|A)$ **x PRIOR** **+ (FALSE POSITIVE x** $P(nonA)$**)**. \n",
        "\n",
        "Indeed the probability that the test results positive is the sum of the probability that it resutls positive given an ill person ($P(B|A)$ x $P(A) $) and the probability that it results positive given a non ill person ($P(B|non A) $ x $P(nonA)$) \n",
        "\n",
        "So **$P(B)$ = (1 - FALSE POSITIVE) X PRIOR + FALSE POSITIVE X (1 - PRIOR)**"
      ]
    },
    {
      "cell_type": "code",
      "metadata": {
        "id": "xpVhZyUnbf7o",
        "colab_type": "code",
        "colab": {}
      },
      "source": [
        "def prob_drunk_given_positive(prob_drunk_prior, false_positive_rate):\n",
        "    result = (1-false_positive_rate)*(prob_drunk_prior)/((1-false_positive_rate)*(prob_drunk_prior)+false_positive_rate*(1-prob_drunk_prior))\n",
        "    return result"
      ],
      "execution_count": 0,
      "outputs": []
    },
    {
      "cell_type": "markdown",
      "metadata": {
        "id": "Jnjq5VTV4kWK",
        "colab_type": "text"
      },
      "source": [
        "This is the probability that a person is drunk after one positive breathalyzer test:"
      ]
    },
    {
      "cell_type": "code",
      "metadata": {
        "id": "WvHU-Yzy4iBs",
        "colab_type": "code",
        "outputId": "c71c20a0-ad13-4d3e-db14-ed784b29b728",
        "colab": {
          "base_uri": "https://localhost:8080/",
          "height": 34
        }
      },
      "source": [
        "prob_drunk_given_positive(1/1000, 8/100)"
      ],
      "execution_count": 17,
      "outputs": [
        {
          "output_type": "execute_result",
          "data": {
            "text/plain": [
              "0.011380504700643244"
            ]
          },
          "metadata": {
            "tags": []
          },
          "execution_count": 17
        }
      ]
    },
    {
      "cell_type": "markdown",
      "metadata": {
        "id": "Mm2Uafyn42UQ",
        "colab_type": "text"
      },
      "source": [
        "The probability that a person is drunk after two positive breathalyzer tests, is calulated the same way, but the **prior** has to be replaced by the **posterior** probability that the person is tested positively drunk after one test: \n",
        "\n",
        "Then in the equation, let's change $P(A)$ into $P(A/B)$"
      ]
    },
    {
      "cell_type": "code",
      "metadata": {
        "id": "dJUBHSLh1vS9",
        "colab_type": "code",
        "colab": {}
      },
      "source": [
        "def prob_drunk_given_2_positive(prob_drunk_prior, false_positive_rate):\n",
        "    result = (1-false_positive_rate)*prob_drunk_given_positive(prob_drunk_prior, false_positive_rate)/((1-false_positive_rate)*(prob_drunk_given_positive(prob_drunk_prior, false_positive_rate))+false_positive_rate*(1-prob_drunk_given_positive(prob_drunk_prior, false_positive_rate)))\n",
        "    return result"
      ],
      "execution_count": 0,
      "outputs": []
    },
    {
      "cell_type": "code",
      "metadata": {
        "id": "2duHK3J82uUG",
        "colab_type": "code",
        "colab": {
          "base_uri": "https://localhost:8080/",
          "height": 34
        },
        "outputId": "cf4f3e95-1362-44dd-827a-b8a2367a1ab8"
      },
      "source": [
        "prob_drunk_given_2_positive(1/1000, 8/100)  # two tsts"
      ],
      "execution_count": 18,
      "outputs": [
        {
          "output_type": "execute_result",
          "data": {
            "text/plain": [
              "0.11690607734806628"
            ]
          },
          "metadata": {
            "tags": []
          },
          "execution_count": 18
        }
      ]
    },
    {
      "cell_type": "code",
      "metadata": {
        "id": "di20ESoAJcRU",
        "colab_type": "code",
        "colab": {
          "base_uri": "https://localhost:8080/",
          "height": 34
        },
        "outputId": "fb6e9afb-7541-465c-9862-51e65e51b2f4"
      },
      "source": [
        "prob_drunk_given_positive(0.011380504700643244, 8/100)  # two tests"
      ],
      "execution_count": 21,
      "outputs": [
        {
          "output_type": "execute_result",
          "data": {
            "text/plain": [
              "0.11690607734806628"
            ]
          },
          "metadata": {
            "tags": []
          },
          "execution_count": 21
        }
      ]
    },
    {
      "cell_type": "code",
      "metadata": {
        "id": "1T20zf7MJxqN",
        "colab_type": "code",
        "colab": {
          "base_uri": "https://localhost:8080/",
          "height": 34
        },
        "outputId": "5810070d-9a99-4bdc-bc68-55d781b298f8"
      },
      "source": [
        "prob_drunk_given_positive(0.11690607734806628, 8/100)  # three tests"
      ],
      "execution_count": 22,
      "outputs": [
        {
          "output_type": "execute_result",
          "data": {
            "text/plain": [
              "0.6035517634803313"
            ]
          },
          "metadata": {
            "tags": []
          },
          "execution_count": 22
        }
      ]
    },
    {
      "cell_type": "code",
      "metadata": {
        "id": "5vj-xcXdJ5_L",
        "colab_type": "code",
        "colab": {
          "base_uri": "https://localhost:8080/",
          "height": 34
        },
        "outputId": "c9d3d7df-46ca-4c92-9cf6-d81635e9d39d"
      },
      "source": [
        "prob_drunk_given_positive(0.6035517634803313, 8/100)  # four tests"
      ],
      "execution_count": 23,
      "outputs": [
        {
          "output_type": "execute_result",
          "data": {
            "text/plain": [
              "0.9459680554381814"
            ]
          },
          "metadata": {
            "tags": []
          },
          "execution_count": 23
        }
      ]
    },
    {
      "cell_type": "code",
      "metadata": {
        "id": "-cy_PwMbKMiO",
        "colab_type": "code",
        "colab": {
          "base_uri": "https://localhost:8080/",
          "height": 34
        },
        "outputId": "dc97b058-5790-4e92-c52d-cea8dd05de0e"
      },
      "source": [
        "prob_drunk_given_positive(0.9459680554381814, 8/100)  # five tests"
      ],
      "execution_count": 24,
      "outputs": [
        {
          "output_type": "execute_result",
          "data": {
            "text/plain": [
              "0.9950577515521439"
            ]
          },
          "metadata": {
            "tags": []
          },
          "execution_count": 24
        }
      ]
    },
    {
      "cell_type": "markdown",
      "metadata": {
        "id": "hlyIBSyiAc3u",
        "colab_type": "text"
      },
      "source": [
        "So we get 11.6% probability that a person is recognized drunk after two positive tests.\n",
        "\n",
        "And we would need four tests to get a probability of 95% to reveal that a person is drunk."
      ]
    },
    {
      "cell_type": "markdown",
      "metadata": {
        "id": "uWgWjp3PQ3Sq",
        "colab_type": "text"
      },
      "source": [
        "## Resources"
      ]
    },
    {
      "cell_type": "markdown",
      "metadata": {
        "id": "QRgHqmYIQ9qn",
        "colab_type": "text"
      },
      "source": [
        "- [Worked example of Bayes rule calculation](https://en.wikipedia.org/wiki/Bayes'_theorem#Examples) (helpful as it fully breaks out the denominator)\n",
        "- [Source code for mvsdist in scipy](https://github.com/scipy/scipy/blob/90534919e139d2a81c24bf08341734ff41a3db12/scipy/stats/morestats.py#L139)"
      ]
    },
    {
      "cell_type": "markdown",
      "metadata": {
        "id": "GP7Jv1XvwtkX",
        "colab_type": "text"
      },
      "source": [
        "## Stretch Goals:\n",
        "\n",
        "- Go back and study the content from Modules 1 & 2 to make sure that you're really comfortable with them.\n",
        "- Apply a Bayesian technique to a problem you previously worked (in an assignment or project work) on from a frequentist (standard) perspective\n",
        "- Check out [PyMC3](https://docs.pymc.io/) (note this goes beyond hypothesis tests into modeling) - read the guides and work through some examples\n",
        "- Take PyMC3 further - see if you can build something with it!"
      ]
    },
    {
      "cell_type": "code",
      "metadata": {
        "id": "iDi0eFr1x-v_",
        "colab_type": "code",
        "colab": {}
      },
      "source": [
        "from scipy import stats\n",
        "import numpy as np\n",
        "\n",
        "\n",
        "?np.random.seed"
      ],
      "execution_count": 0,
      "outputs": []
    },
    {
      "cell_type": "code",
      "metadata": {
        "id": "nU3vQb8Gjskm",
        "colab_type": "code",
        "colab": {}
      },
      "source": [
        ""
      ],
      "execution_count": 0,
      "outputs": []
    }
  ]
}